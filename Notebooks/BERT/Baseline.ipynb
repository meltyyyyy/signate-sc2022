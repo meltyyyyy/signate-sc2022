{
 "cells": [
  {
   "cell_type": "markdown",
   "metadata": {},
   "source": [
    "### Basic configuration"
   ]
  },
  {
   "cell_type": "code",
   "execution_count": 1,
   "metadata": {},
   "outputs": [],
   "source": [
    "class Config:\n",
    "    notebook = \"BERT/Baseline\"\n",
    "    script = \"bert/baseline\"\n",
    "\n",
    "    n_splits = 5\n",
    "    seed = 42\n",
    "    target = \"target\"\n",
    "\n",
    "    # Colab Env\n",
    "    api_path = \"/content/drive/MyDrive/workspace/kaggle.json\"\n",
    "    drive_path = \"/content/drive/MyDrive/workspace/kaggle-amex\"\n",
    "\n",
    "    # Kaggle Env\n",
    "    kaggle_dataset_path = None\n",
    "\n",
    "    # Reka Env\n",
    "    dir_path = \"/Users/takeru.abe/Development/signate-sc2022\"\n",
    "\n",
    "    def is_notebook():\n",
    "        if 'get_ipython' not in globals():\n",
    "            return False\n",
    "        env_name = get_ipython().__class__.__name__  # type: ignore\n",
    "        if env_name == 'TerminalInteractiveShell':\n",
    "            return False\n",
    "        return True"
   ]
  },
  {
   "cell_type": "markdown",
   "metadata": {},
   "source": [
    "### Import basic libraries"
   ]
  },
  {
   "cell_type": "code",
   "execution_count": 2,
   "metadata": {},
   "outputs": [
    {
     "name": "stderr",
     "output_type": "stream",
     "text": [
      "/Users/takeru.abe/opt/anaconda3/envs/sc/lib/python3.10/site-packages/tqdm/auto.py:22: TqdmWarning: IProgress not found. Please update jupyter and ipywidgets. See https://ipywidgets.readthedocs.io/en/stable/user_install.html\n",
      "  from .autonotebook import tqdm as notebook_tqdm\n"
     ]
    }
   ],
   "source": [
    "from tqdm.auto import tqdm\n",
    "import seaborn as sns\n",
    "import os\n",
    "import json\n",
    "import warnings\n",
    "import shutil\n",
    "import logging\n",
    "import joblib\n",
    "import random\n",
    "import datetime\n",
    "import sys\n",
    "import gc\n",
    "import multiprocessing\n",
    "import pickle\n",
    "import subprocess\n",
    "from subprocess import PIPE\n",
    "import ntpath\n",
    "\n",
    "import pandas as pd\n",
    "import numpy as np\n",
    "import matplotlib.pyplot as plt\n",
    "plt.style.use('seaborn-pastel')\n",
    "sns.set_palette(\"winter_r\")\n",
    "\n",
    "tqdm.pandas()\n",
    "warnings.filterwarnings('ignore')"
   ]
  },
  {
   "cell_type": "markdown",
   "metadata": {},
   "source": [
    "### Seeding"
   ]
  },
  {
   "cell_type": "code",
   "execution_count": 3,
   "metadata": {},
   "outputs": [],
   "source": [
    "def seed_everything():\n",
    "    random.seed(Config.seed)\n",
    "    np.random.seed(Config.seed)\n",
    "    os.environ['PYTHONHASHSEED'] = str(Config.seed)\n",
    "\n",
    "seed_everything()"
   ]
  },
  {
   "cell_type": "markdown",
   "metadata": {},
   "source": [
    "### Path configuration"
   ]
  },
  {
   "cell_type": "code",
   "execution_count": 4,
   "metadata": {},
   "outputs": [],
   "source": [
    "def path_setup():\n",
    "    INPUT = os.path.join(Config.dir_path, 'input')\n",
    "    OUTPUT = os.path.join(Config.dir_path, 'output')\n",
    "    SUBMISSION = os.path.join(Config.dir_path, 'submissions')\n",
    "    OUTPUT_EXP = os.path.join(OUTPUT, Config.script)\n",
    "    EXP_MODEL = os.path.join(OUTPUT_EXP, \"model\")\n",
    "    EXP_FIG = os.path.join(OUTPUT_EXP, \"fig\")\n",
    "    NOTEBOOK = os.path.join(Config.dir_path, \"Notebooks\")\n",
    "    SCRIPT = os.path.join(Config.dir_path, \"scripts\")\n",
    "\n",
    "    # make dir\n",
    "    for dir in [\n",
    "            INPUT,\n",
    "            OUTPUT,\n",
    "            SUBMISSION,\n",
    "            OUTPUT_EXP,\n",
    "            EXP_MODEL,\n",
    "            EXP_FIG,\n",
    "            NOTEBOOK,\n",
    "            SCRIPT]:\n",
    "        os.makedirs(dir, exist_ok=True)\n",
    "\n",
    "    if Config.is_notebook():\n",
    "        notebook_path = os.path.join(NOTEBOOK, Config.notebook + \".ipynb\")\n",
    "        script_path = os.path.join(SCRIPT, Config.script + \".py\")\n",
    "        dir, _ = ntpath.split(script_path)\n",
    "        subprocess.run(f\"mkdir -p {dir}; touch {script_path}\",\n",
    "                       shell=True,\n",
    "                       stdout=PIPE,\n",
    "                       stderr=PIPE,\n",
    "                       text=True)\n",
    "        subprocess.run(\n",
    "            f\"jupyter nbconvert --to python {notebook_path} --output {script_path}\",\n",
    "            shell=True,\n",
    "            stdout=PIPE,\n",
    "            stderr=PIPE,\n",
    "            text=True)\n",
    "\n",
    "path_setup()"
   ]
  },
  {
   "cell_type": "markdown",
   "metadata": {},
   "source": [
    "# Load data"
   ]
  },
  {
   "cell_type": "code",
   "execution_count": 5,
   "metadata": {},
   "outputs": [
    {
     "name": "stdout",
     "output_type": "stream",
     "text": [
      "aaaaa\n"
     ]
    }
   ],
   "source": []
  }
 ],
 "metadata": {
  "kernelspec": {
   "display_name": "Python 3.10.4 ('sc')",
   "language": "python",
   "name": "python3"
  },
  "language_info": {
   "codemirror_mode": {
    "name": "ipython",
    "version": 3
   },
   "file_extension": ".py",
   "mimetype": "text/x-python",
   "name": "python",
   "nbconvert_exporter": "python",
   "pygments_lexer": "ipython3",
   "version": "3.10.4"
  },
  "orig_nbformat": 4,
  "vscode": {
   "interpreter": {
    "hash": "34f5ca4582d5204418b15f03651a76ca8dea03110e55ec56baad9a756ae6f32d"
   }
  }
 },
 "nbformat": 4,
 "nbformat_minor": 2
}
